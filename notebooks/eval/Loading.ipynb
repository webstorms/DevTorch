{
 "cells": [
  {
   "cell_type": "markdown",
   "id": "09f603ce-2924-4245-9ca3-62afde3ea8a3",
   "metadata": {},
   "source": [
    "### Goal\n",
    "This code example shows you how to load the stored training log, model hyperparams and model checkpoints:\n",
    "- Training log: this keeps track of the training loss over the epochs (or any other data you may store during the training process).\n",
    "- Model hyperparams: this keeps track of all model hyperparams and weight init schemes of your model.\n",
    "- Model checkpoints: these are the stored weights of your model."
   ]
  },
  {
   "cell_type": "code",
   "execution_count": 1,
   "id": "f6a8a984-69fb-49bb-accf-5c6ec035a69c",
   "metadata": {},
   "outputs": [],
   "source": [
    "import torch\n",
    "import torch.nn as nn\n",
    "import torch.nn.functional as F\n",
    "from torchvision import datasets, transforms\n",
    "import devtorch\n",
    "%load_ext autoreload\n",
    "%autoreload 2"
   ]
  },
  {
   "cell_type": "code",
   "execution_count": 2,
   "id": "6d36b05e-99d8-4747-9537-ef4e0a21e8e3",
   "metadata": {},
   "outputs": [],
   "source": [
    "class ANNClassifier(devtorch.DevModel):\n",
    "    \n",
    "    def __init__(self, n_in, n_hidden, n_out):\n",
    "        super().__init__()\n",
    "        self._n_in = n_in\n",
    "        self._n_hidden = n_hidden\n",
    "        self._n_out = n_out\n",
    "        self.layer1 = nn.Linear(n_in, n_hidden, bias=False)\n",
    "        self.layer2 = nn.Linear(n_hidden, n_out, bias=False)\n",
    "        self.init_weight(self.layer1.weight, \"glorot_uniform\")\n",
    "        self.init_weight(self.layer2.weight, \"glorot_uniform\")\n",
    "    \n",
    "    @property\n",
    "    def hyperparams(self):\n",
    "        return {**super().hyperparams, \"params\": {\"n_in\": self._n_in, \"n_hidden\": self._n_hidden, \"n_out\": self._n_out}}\n",
    "    \n",
    "    def forward(self, x):\n",
    "        x = F.leaky_relu(self.layer1(x.flatten(1, 3)))\n",
    "        return F.leaky_relu(self.layer2(x))"
   ]
  },
  {
   "cell_type": "code",
   "execution_count": 3,
   "id": "72d4e946-a338-4505-900c-75f500373edc",
   "metadata": {},
   "outputs": [],
   "source": [
    "class CustomTrainer(devtorch.Trainer):\n",
    "    \n",
    "    def __init__(self, root, model_id, model, train_dataset, n_epochs=100, batch_size=128, lr=0.001, device=\"cuda\"):\n",
    "        super().__init__(root=root, id=model_id, model=model, train_dataset=train_dataset, n_epochs=n_epochs, batch_size=batch_size, lr=lr, device=device)\n",
    "        self.log = {**self.log, \"model_weight_mag\": []}  # We extend the log of the devtorch trainer\n",
    "        self._model_weight_mag = 0\n",
    "      \n",
    "    @staticmethod\n",
    "    def load_model(root, model_id):\n",
    "        \n",
    "        def model_loader(hyperparams):\n",
    "            return ANNClassifier(**hyperparams[\"model\"][\"params\"])\n",
    "        \n",
    "        return devtorch.load_model(root, model_id, model_loader)\n",
    "    \n",
    "    def loss(self, output, target, model):        \n",
    "        with torch.no_grad():\n",
    "            self._model_weight_mag = model.layer1.weight.abs().mean() + model.layer2.weight.abs().mean()\n",
    "            self._model_weight_mag = self._model_weight_mag.cpu().item()\n",
    "        return F.cross_entropy(output, target.long())\n",
    "    \n",
    "    def on_epoch_complete(self, save):\n",
    "        train_loss = self.log[\"train_loss\"][-1]\n",
    "        self.log[\"model_weight_mag\"].append(self._model_weight_mag)\n",
    "        self.save_log()\n",
    "        print(f\"Epoch train_loss={train_loss:.4f} (pred_std={self._model_weight_mag:.4f})\")"
   ]
  },
  {
   "cell_type": "code",
   "execution_count": 19,
   "id": "1dd35d9b-a48b-4f89-9392-172d6b170516",
   "metadata": {},
   "outputs": [
    {
     "name": "stdout",
     "output_type": "stream",
     "text": [
      "INFO:trainer:Completed epoch 0 with loss 123.7608951269649 in 7.7229s\n",
      "Epoch train_loss=123.7609 (pred_std=0.0551)\n",
      "INFO:trainer:Completed epoch 1 with loss 39.99248542985879 in 7.7199s\n",
      "Epoch train_loss=39.9925 (pred_std=0.0595)\n",
      "INFO:trainer:Completed epoch 2 with loss 23.93866807280574 in 7.7223s\n",
      "Epoch train_loss=23.9387 (pred_std=0.0639)\n",
      "INFO:trainer:Completed epoch 3 with loss 16.409666340623517 in 7.7304s\n",
      "Epoch train_loss=16.4097 (pred_std=0.0681)\n",
      "INFO:trainer:Completed epoch 4 with loss 14.512209695458296 in 7.7263s\n",
      "Epoch train_loss=14.5122 (pred_std=0.0724)\n",
      "INFO:trainer:Completed epoch 5 with loss 13.020273453548725 in 7.5502s\n",
      "Epoch train_loss=13.0203 (pred_std=0.0762)\n",
      "INFO:trainer:Completed epoch 6 with loss 9.42313642512454 in 7.5423s\n",
      "Epoch train_loss=9.4231 (pred_std=0.0794)\n",
      "INFO:trainer:Completed epoch 7 with loss 10.521217444758804 in 7.5297s\n",
      "Epoch train_loss=10.5212 (pred_std=0.0831)\n",
      "INFO:trainer:Completed epoch 8 with loss 8.517808600507124 in 7.5542s\n",
      "Epoch train_loss=8.5178 (pred_std=0.0864)\n",
      "INFO:trainer:Completed epoch 9 with loss 8.399855450104951 in 7.5251s\n",
      "Epoch train_loss=8.3999 (pred_std=0.0896)\n"
     ]
    }
   ],
   "source": [
    "model = ANNClassifier(784, 2000, 10)\n",
    "transform = transforms.Compose([transforms.ToTensor(), transforms.Normalize((0.1307,), (0.3081,))])\n",
    "train_dataset = datasets.MNIST(\"../../data\", train=True, download=True, transform=transform)\n",
    "test_dataset = datasets.MNIST(\"../../data\", train=False, download=True, transform=transform)\n",
    "\n",
    "root = \"../../data\"  # where to save the checkpoint\n",
    "model_id = \"loading\"  # the name of the checkpoint - if not is provided devtorch auto generates this.\n",
    "\n",
    "trainer = CustomTrainer(root, model_id, model, train_dataset, n_epochs=10, batch_size=128, lr=0.001, device=\"cuda\")\n",
    "trainer.train(save=True)"
   ]
  },
  {
   "cell_type": "markdown",
   "id": "3ae96bdd-5522-4b89-9235-4b707f17c9ab",
   "metadata": {},
   "source": [
    "### Load training log"
   ]
  },
  {
   "cell_type": "code",
   "execution_count": 5,
   "id": "034619bf-4353-4d32-b3b3-ccb0ced48b83",
   "metadata": {},
   "outputs": [
    {
     "data": {
      "text/html": [
       "<div>\n",
       "<style scoped>\n",
       "    .dataframe tbody tr th:only-of-type {\n",
       "        vertical-align: middle;\n",
       "    }\n",
       "\n",
       "    .dataframe tbody tr th {\n",
       "        vertical-align: top;\n",
       "    }\n",
       "\n",
       "    .dataframe thead th {\n",
       "        text-align: right;\n",
       "    }\n",
       "</style>\n",
       "<table border=\"1\" class=\"dataframe\">\n",
       "  <thead>\n",
       "    <tr style=\"text-align: right;\">\n",
       "      <th></th>\n",
       "      <th>train_loss</th>\n",
       "      <th>duration</th>\n",
       "      <th>model_weight_mag</th>\n",
       "    </tr>\n",
       "  </thead>\n",
       "  <tbody>\n",
       "    <tr>\n",
       "      <th>0</th>\n",
       "      <td>123.760895</td>\n",
       "      <td>7.722918</td>\n",
       "      <td>0.055137</td>\n",
       "    </tr>\n",
       "    <tr>\n",
       "      <th>1</th>\n",
       "      <td>39.992485</td>\n",
       "      <td>7.719874</td>\n",
       "      <td>0.059459</td>\n",
       "    </tr>\n",
       "    <tr>\n",
       "      <th>2</th>\n",
       "      <td>23.938668</td>\n",
       "      <td>7.722350</td>\n",
       "      <td>0.063938</td>\n",
       "    </tr>\n",
       "    <tr>\n",
       "      <th>3</th>\n",
       "      <td>16.409666</td>\n",
       "      <td>7.730401</td>\n",
       "      <td>0.068137</td>\n",
       "    </tr>\n",
       "    <tr>\n",
       "      <th>4</th>\n",
       "      <td>14.512210</td>\n",
       "      <td>7.726257</td>\n",
       "      <td>0.072363</td>\n",
       "    </tr>\n",
       "    <tr>\n",
       "      <th>5</th>\n",
       "      <td>13.020273</td>\n",
       "      <td>7.550247</td>\n",
       "      <td>0.076227</td>\n",
       "    </tr>\n",
       "    <tr>\n",
       "      <th>6</th>\n",
       "      <td>9.423136</td>\n",
       "      <td>7.542302</td>\n",
       "      <td>0.079395</td>\n",
       "    </tr>\n",
       "    <tr>\n",
       "      <th>7</th>\n",
       "      <td>10.521217</td>\n",
       "      <td>7.529686</td>\n",
       "      <td>0.083117</td>\n",
       "    </tr>\n",
       "    <tr>\n",
       "      <th>8</th>\n",
       "      <td>8.517809</td>\n",
       "      <td>7.554157</td>\n",
       "      <td>0.086410</td>\n",
       "    </tr>\n",
       "    <tr>\n",
       "      <th>9</th>\n",
       "      <td>8.399855</td>\n",
       "      <td>7.525112</td>\n",
       "      <td>0.089552</td>\n",
       "    </tr>\n",
       "  </tbody>\n",
       "</table>\n",
       "</div>"
      ],
      "text/plain": [
       "   train_loss  duration  model_weight_mag\n",
       "0  123.760895  7.722918          0.055137\n",
       "1   39.992485  7.719874          0.059459\n",
       "2   23.938668  7.722350          0.063938\n",
       "3   16.409666  7.730401          0.068137\n",
       "4   14.512210  7.726257          0.072363\n",
       "5   13.020273  7.550247          0.076227\n",
       "6    9.423136  7.542302          0.079395\n",
       "7   10.521217  7.529686          0.083117\n",
       "8    8.517809  7.554157          0.086410\n",
       "9    8.399855  7.525112          0.089552"
      ]
     },
     "execution_count": 5,
     "metadata": {},
     "output_type": "execute_result"
    }
   ],
   "source": [
    "log = devtorch.load_log(root, model_id)\n",
    "log"
   ]
  },
  {
   "cell_type": "markdown",
   "id": "f14e6750-f080-4eeb-aba9-0179adb432b1",
   "metadata": {},
   "source": [
    "### Load model hyperparams"
   ]
  },
  {
   "cell_type": "code",
   "execution_count": 6,
   "id": "1e13a79c-82c3-4cb3-885a-f8c42e3d3626",
   "metadata": {},
   "outputs": [
    {
     "data": {
      "text/plain": [
       "{'trainer': {'date': '2024-04-22-15:47:47',\n",
       "  'n_epochs': 10,\n",
       "  'batch_size': 128,\n",
       "  'lr': 0.001,\n",
       "  'dtype': 'torch.float32',\n",
       "  'grad_clip_type': None,\n",
       "  'grad_clip_value': None},\n",
       " 'dataset': {'name': 'MNIST'},\n",
       " 'model': {'name': 'ANNClassifier',\n",
       "  'weights': {'layer1.weight': {'init_type': 'glorot_uniform',\n",
       "    'dtype': 'torch.float32',\n",
       "    'params': {}},\n",
       "   'layer2.weight': {'init_type': 'glorot_uniform',\n",
       "    'dtype': 'torch.float32',\n",
       "    'params': {}}},\n",
       "  'params': {'n_in': 784, 'n_hidden': 2000, 'n_out': 10}}}"
      ]
     },
     "execution_count": 6,
     "metadata": {},
     "output_type": "execute_result"
    }
   ],
   "source": [
    "hyperparams = devtorch.load_hyperparams(root, model_id)\n",
    "hyperparams"
   ]
  },
  {
   "cell_type": "markdown",
   "id": "4b69cec1-d5df-4521-b201-6fa5c4672aa1",
   "metadata": {},
   "source": [
    "### Load trained model and check accuracy"
   ]
  },
  {
   "cell_type": "code",
   "execution_count": 7,
   "id": "762b3d2c-17a1-42ea-8097-20ebeac33be0",
   "metadata": {},
   "outputs": [],
   "source": [
    "model = CustomTrainer.load_model(root, model_id)"
   ]
  },
  {
   "cell_type": "code",
   "execution_count": 10,
   "id": "34d81dc5-b56c-4e12-bf3a-d9230facde22",
   "metadata": {},
   "outputs": [
    {
     "name": "stdout",
     "output_type": "stream",
     "text": [
      "Accuracy = 0.9767000079154968\n"
     ]
    }
   ],
   "source": [
    "def eval_metric(output, target):\n",
    "    return (torch.max(output, 1)[1] == target).sum().cpu().item()\n",
    "\n",
    "scores = devtorch.compute_metric(model, test_dataset, eval_metric, batch_size=256)\n",
    "print(f\"Accuracy = {torch.Tensor(scores).sum()/len(test_dataset)}\")"
   ]
  }
 ],
 "metadata": {
  "kernelspec": {
   "display_name": "Python [conda env:devtorch] *",
   "language": "python",
   "name": "conda-env-devtorch-py"
  },
  "language_info": {
   "codemirror_mode": {
    "name": "ipython",
    "version": 3
   },
   "file_extension": ".py",
   "mimetype": "text/x-python",
   "name": "python",
   "nbconvert_exporter": "python",
   "pygments_lexer": "ipython3",
   "version": "3.8.19"
  }
 },
 "nbformat": 4,
 "nbformat_minor": 5
}
