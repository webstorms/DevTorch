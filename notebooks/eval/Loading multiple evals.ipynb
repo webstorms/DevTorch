{
 "cells": [
  {
   "cell_type": "markdown",
   "id": "09f603ce-2924-4245-9ca3-62afde3ea8a3",
   "metadata": {},
   "source": [
    "### Goal\n",
    "This tutorial shows you how to evaluate multiple trained models and find the best-performing one. We train ANNs with different numbers of hidden units on the MNSIT dataset and find the one with the best accuracy on the test dataset."
   ]
  },
  {
   "cell_type": "code",
   "execution_count": 3,
   "id": "8495b1d7-434b-4782-a6aa-a6364518d158",
   "metadata": {},
   "outputs": [
    {
     "name": "stdout",
     "output_type": "stream",
     "text": [
      "The autoreload extension is already loaded. To reload it, use:\n",
      "  %reload_ext autoreload\n"
     ]
    }
   ],
   "source": [
    "import torch\n",
    "import torch.nn as nn\n",
    "import torch.nn.functional as F\n",
    "from torchvision import datasets, transforms\n",
    "import devtorch\n",
    "%load_ext autoreload\n",
    "%autoreload 2"
   ]
  },
  {
   "cell_type": "markdown",
   "id": "a604bc3b-dd8f-48df-bd41-974c5d9c2f42",
   "metadata": {},
   "source": [
    "### Let's train a few models"
   ]
  },
  {
   "cell_type": "code",
   "execution_count": 9,
   "id": "6d36b05e-99d8-4747-9537-ef4e0a21e8e3",
   "metadata": {},
   "outputs": [],
   "source": [
    "class ANNClassifier(devtorch.DevModel):\n",
    "    \n",
    "    def __init__(self, n_in, n_hidden, n_out):\n",
    "        super().__init__()\n",
    "        self._n_in = n_in\n",
    "        self._n_hidden = n_hidden\n",
    "        self._n_out = n_out\n",
    "        self.layer1 = nn.Linear(n_in, n_hidden, bias=False)\n",
    "        self.layer2 = nn.Linear(n_hidden, n_out, bias=False)\n",
    "        self.init_weight(self.layer1.weight, \"glorot_uniform\")\n",
    "        self.init_weight(self.layer2.weight, \"glorot_uniform\")\n",
    "    \n",
    "    @property\n",
    "    def hyperparams(self):\n",
    "        return {**super().hyperparams, \"params\": {\"n_in\": self._n_in, \"n_hidden\": self._n_hidden, \"n_out\": self._n_out}}\n",
    "    \n",
    "    def forward(self, x):\n",
    "        x = F.leaky_relu(self.layer1(x.flatten(1, 3)))\n",
    "        return F.leaky_relu(self.layer2(x))"
   ]
  },
  {
   "cell_type": "code",
   "execution_count": 31,
   "id": "2b685b8b-9b7a-4018-b4bc-d5ffb7218f70",
   "metadata": {},
   "outputs": [
    {
     "name": "stdout",
     "output_type": "stream",
     "text": [
      "INFO:trainer:Completed epoch 0 with loss 972.7274848222733 in 7.4804s\n",
      "INFO:trainer:Completed epoch 1 with loss 955.9463212490082 in 7.4609s\n",
      "INFO:trainer:Completed epoch 2 with loss 948.9528036117554 in 7.3285s\n",
      "INFO:trainer:Completed epoch 3 with loss 941.0648840665817 in 7.3228s\n",
      "INFO:trainer:Completed epoch 4 with loss 924.0126966238022 in 7.3340s\n",
      "INFO:trainer:Completed epoch 5 with loss 901.7036259174347 in 7.3348s\n",
      "INFO:trainer:Completed epoch 6 with loss 892.2680432796478 in 7.3324s\n",
      "INFO:trainer:Completed epoch 7 with loss 884.9409943819046 in 7.3330s\n",
      "INFO:trainer:Completed epoch 0 with loss 329.5164772942662 in 7.3363s\n",
      "INFO:trainer:Completed epoch 1 with loss 153.00060449913144 in 7.3250s\n",
      "INFO:trainer:Completed epoch 2 with loss 137.13186548650265 in 7.3231s\n",
      "INFO:trainer:Completed epoch 3 with loss 129.66909927129745 in 7.3273s\n",
      "INFO:trainer:Completed epoch 4 with loss 124.7119121607393 in 7.3354s\n",
      "INFO:trainer:Completed epoch 5 with loss 120.97485350817442 in 7.3396s\n",
      "INFO:trainer:Completed epoch 6 with loss 117.73876483738422 in 7.3325s\n",
      "INFO:trainer:Completed epoch 7 with loss 115.0316968653351 in 7.3312s\n",
      "INFO:trainer:Completed epoch 0 with loss 154.26970317587256 in 7.3509s\n",
      "INFO:trainer:Completed epoch 1 with loss 69.15624739602208 in 7.3601s\n",
      "INFO:trainer:Completed epoch 2 with loss 48.357250394299626 in 7.0889s\n",
      "INFO:trainer:Completed epoch 3 with loss 36.55721033830196 in 6.9824s\n",
      "INFO:trainer:Completed epoch 4 with loss 28.56323968968354 in 6.9855s\n",
      "INFO:trainer:Completed epoch 5 with loss 22.77574292733334 in 6.9810s\n",
      "INFO:trainer:Completed epoch 6 with loss 18.807983950013295 in 6.9808s\n",
      "INFO:trainer:Completed epoch 7 with loss 15.299600451486185 in 6.9893s\n"
     ]
    }
   ],
   "source": [
    "transform = transforms.Compose([transforms.ToTensor(), transforms.Normalize((0.1307,), (0.3081,))])\n",
    "train_dataset = datasets.MNIST(\"../../data\", train=True, download=True, transform=transform)\n",
    "test_dataset = datasets.MNIST(\"../../data\", train=False, download=True, transform=transform)\n",
    "\n",
    "def loss(output, target):\n",
    "    return F.cross_entropy(output, target.long())\n",
    "\n",
    "root = \"../../data/multi\"  # where to save the checkpoint\n",
    "\n",
    "for n_hidden in [1, 10, 100]:\n",
    "    model = ANNClassifier(784, n_hidden, 10)\n",
    "    model_id = f\"units_{n_hidden}\"  # the name of the checkpoint - if not is provided devtorch auto generates this.\n",
    "    trainer = devtorch.get_trainer(loss, root=root, id=model_id, model=model, train_dataset=train_dataset, n_epochs=8, batch_size=128, lr=0.001, device=\"cuda\")\n",
    "    trainer.train(save=True)"
   ]
  },
  {
   "cell_type": "markdown",
   "id": "c1239f8a-4808-47f3-8f1b-7e8d83d0caef",
   "metadata": {},
   "source": [
    "### Inspect different model hyperparams"
   ]
  },
  {
   "cell_type": "markdown",
   "id": "09b99a5e-97db-4d4a-af70-04521fc0788b",
   "metadata": {},
   "source": [
    "Every model was saved using a name that included the number of hidden units in the model (i.e. model_id = f\"units_{n_hidden}\"). However, say we didn't include the number of hidden units in the name, and we want to check how the different models compare to each other. For this we can use the devtorch.build_models_df function shown below:"
   ]
  },
  {
   "cell_type": "code",
   "execution_count": 32,
   "id": "4606a518-ca5c-440e-af0e-9ee95f518efa",
   "metadata": {},
   "outputs": [
    {
     "data": {
      "text/html": [
       "<div>\n",
       "<style scoped>\n",
       "    .dataframe tbody tr th:only-of-type {\n",
       "        vertical-align: middle;\n",
       "    }\n",
       "\n",
       "    .dataframe tbody tr th {\n",
       "        vertical-align: top;\n",
       "    }\n",
       "\n",
       "    .dataframe thead th {\n",
       "        text-align: right;\n",
       "    }\n",
       "</style>\n",
       "<table border=\"1\" class=\"dataframe\">\n",
       "  <thead>\n",
       "    <tr style=\"text-align: right;\">\n",
       "      <th></th>\n",
       "      <th>n_hidden</th>\n",
       "    </tr>\n",
       "    <tr>\n",
       "      <th>model_id</th>\n",
       "      <th></th>\n",
       "    </tr>\n",
       "  </thead>\n",
       "  <tbody>\n",
       "    <tr>\n",
       "      <th>units_1</th>\n",
       "      <td>1</td>\n",
       "    </tr>\n",
       "    <tr>\n",
       "      <th>units_10</th>\n",
       "      <td>10</td>\n",
       "    </tr>\n",
       "    <tr>\n",
       "      <th>units_100</th>\n",
       "      <td>100</td>\n",
       "    </tr>\n",
       "  </tbody>\n",
       "</table>\n",
       "</div>"
      ],
      "text/plain": [
       "           n_hidden\n",
       "model_id           \n",
       "units_1           1\n",
       "units_10         10\n",
       "units_100       100"
      ]
     },
     "execution_count": 32,
     "metadata": {},
     "output_type": "execute_result"
    }
   ],
   "source": [
    "def hyperparams_mapper(hyperparams):\n",
    "    return {\"n_hidden\": hyperparams[\"model\"][\"params\"][\"n_hidden\"]} \n",
    "\n",
    "devtorch.build_models_df(root, hyperparams_mapper)"
   ]
  },
  {
   "cell_type": "markdown",
   "id": "69d3a930-df59-49ce-af11-4abd131526e3",
   "metadata": {},
   "source": [
    "### Get best model"
   ]
  },
  {
   "cell_type": "markdown",
   "id": "4d9a61b0-70ae-4aa8-af9d-19648fbd8658",
   "metadata": {},
   "source": [
    "We can now compare the different model accuracies using the devtorch.build_metric_df function:"
   ]
  },
  {
   "cell_type": "code",
   "execution_count": 33,
   "id": "6511a0d9-2786-4950-b222-5b66ae40bbee",
   "metadata": {},
   "outputs": [],
   "source": [
    "def model_loader(hyperparams):\n",
    "    return ANNClassifier(**hyperparams[\"model\"][\"params\"])\n",
    "\n",
    "def eval_metric(output, target):\n",
    "    return (torch.max(output, 1)[1] == target).sum().cpu().item()"
   ]
  },
  {
   "cell_type": "code",
   "execution_count": 48,
   "id": "0c2b1676-22f2-4db3-98e0-b4e0c1c30dbb",
   "metadata": {},
   "outputs": [
    {
     "name": "stdout",
     "output_type": "stream",
     "text": [
      "INFO:validator:Computing metric for units_1...\n",
      "INFO:validator:Computing metric for units_10...\n",
      "INFO:validator:Computing metric for units_100...\n"
     ]
    }
   ],
   "source": [
    "metric_df = devtorch.build_metric_df(\n",
    "    root,\n",
    "    model_loader,\n",
    "    test_dataset,\n",
    "    eval_metric,\n",
    "    model_ids=None,  # None loads all models. Or specify a list of model_ids that you would like to use.\n",
    "    batch_size=256,\n",
    "    device=\"cuda\",\n",
    "    dtype=torch.float,\n",
    "    # **kwargs: you can pass additional custom arguments that will get passed to the models forward call.\n",
    ")"
   ]
  },
  {
   "cell_type": "code",
   "execution_count": 49,
   "id": "2597e439-aed9-4ecb-9b9d-325368114fed",
   "metadata": {},
   "outputs": [
    {
     "data": {
      "text/plain": [
       "model_id\n",
       "units_1      0.1903\n",
       "units_10     0.9291\n",
       "units_100    0.9718\n",
       "Name: metric_score, dtype: float64"
      ]
     },
     "execution_count": 49,
     "metadata": {},
     "output_type": "execute_result"
    }
   ],
   "source": [
    "metric_df.groupby(\"model_id\").sum()[\"metric_score\"]/len(test_dataset)"
   ]
  }
 ],
 "metadata": {
  "kernelspec": {
   "display_name": "Python [conda env:devtorch] *",
   "language": "python",
   "name": "conda-env-devtorch-py"
  },
  "language_info": {
   "codemirror_mode": {
    "name": "ipython",
    "version": 3
   },
   "file_extension": ".py",
   "mimetype": "text/x-python",
   "name": "python",
   "nbconvert_exporter": "python",
   "pygments_lexer": "ipython3",
   "version": "3.8.19"
  }
 },
 "nbformat": 4,
 "nbformat_minor": 5
}
