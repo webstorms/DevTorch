{
 "cells": [
  {
   "cell_type": "markdown",
   "id": "09f603ce-2924-4245-9ca3-62afde3ea8a3",
   "metadata": {},
   "source": [
    "### Goal\n",
    "This code example shows you how to write custom evaluation functions to evaluate your models. Here we use an untrained ANN and evaluate on MNIST."
   ]
  },
  {
   "cell_type": "code",
   "execution_count": 8,
   "id": "f6a8a984-69fb-49bb-accf-5c6ec035a69c",
   "metadata": {},
   "outputs": [],
   "source": [
    "import torch\n",
    "import torch.nn as nn\n",
    "import torch.nn.functional as F\n",
    "from torchvision import datasets, transforms\n",
    "import devtorch"
   ]
  },
  {
   "cell_type": "code",
   "execution_count": 9,
   "id": "540641fe-df7f-43fc-9008-a9084e4793b8",
   "metadata": {},
   "outputs": [],
   "source": [
    "class ANNClassifier(devtorch.DevModel):\n",
    "    \n",
    "    def __init__(self, n_in, n_hidden, n_out):\n",
    "        super().__init__()\n",
    "        self.layer1 = nn.Linear(n_in, n_hidden, bias=False)\n",
    "        self.layer2 = nn.Linear(n_hidden, n_out, bias=False)\n",
    "        self.init_weight(self.layer1.weight, \"glorot_uniform\")\n",
    "        self.init_weight(self.layer2.weight, \"glorot_uniform\")\n",
    "    \n",
    "    def forward(self, x):\n",
    "        x = F.leaky_relu(self.layer1(x.flatten(1, 3)))\n",
    "        return F.leaky_relu(self.layer2(x))"
   ]
  },
  {
   "cell_type": "code",
   "execution_count": 10,
   "id": "1dd35d9b-a48b-4f89-9392-172d6b170516",
   "metadata": {},
   "outputs": [],
   "source": [
    "model = ANNClassifier(784, 2000, 10)\n",
    "transform = transforms.Compose([transforms.ToTensor(), transforms.Normalize((0.1307,), (0.3081,))])\n",
    "test_dataset = datasets.MNIST(\"../../data\", train=False, download=True, transform=transform)"
   ]
  },
  {
   "cell_type": "markdown",
   "id": "e5fef918-d316-437f-ae76-605a24facd99",
   "metadata": {},
   "source": [
    "### Eval error of untrained network"
   ]
  },
  {
   "cell_type": "code",
   "execution_count": 29,
   "id": "34d81dc5-b56c-4e12-bf3a-d9230facde22",
   "metadata": {
    "scrolled": true
   },
   "outputs": [
    {
     "name": "stdout",
     "output_type": "stream",
     "text": [
      "Accuracy = 0.8795999884605408\n"
     ]
    }
   ],
   "source": [
    "def error_metric(output, target):\n",
    "    print(f\"output={output.shape}\")\n",
    "    return (torch.max(output, 1)[1] == target).sum().cpu().item()\n",
    "\n",
    "scores = devtorch.compute_metric(model, test_dataset, equal_to_three_metric, batch_size=256)\n",
    "print(f\"Accuracy = {1 - torch.Tensor(scores).sum()/len(test_dataset)}\")"
   ]
  },
  {
   "cell_type": "markdown",
   "id": "078d6502-8da5-4b31-9e41-7dc85cbc9a26",
   "metadata": {},
   "source": [
    "### Count number of predictions equal to 3"
   ]
  },
  {
   "cell_type": "code",
   "execution_count": 30,
   "id": "96886745-1628-40e6-9e69-087235e79815",
   "metadata": {},
   "outputs": [
    {
     "name": "stdout",
     "output_type": "stream",
     "text": [
      "Equal to three = 1204.0\n"
     ]
    }
   ],
   "source": [
    "def equal_to_three_metric(output, target):\n",
    "    return (torch.max(output, 1)[1] == 3).sum().cpu().item()\n",
    "    \n",
    "scores = devtorch.compute_metric(model, test_dataset, equal_to_three_metric, batch_size=256)\n",
    "print(f\"Equal to three = {torch.Tensor(scores).sum()}\")"
   ]
  }
 ],
 "metadata": {
  "kernelspec": {
   "display_name": "Python [conda env:devtorch] *",
   "language": "python",
   "name": "conda-env-devtorch-py"
  },
  "language_info": {
   "codemirror_mode": {
    "name": "ipython",
    "version": 3
   },
   "file_extension": ".py",
   "mimetype": "text/x-python",
   "name": "python",
   "nbconvert_exporter": "python",
   "pygments_lexer": "ipython3",
   "version": "3.8.19"
  }
 },
 "nbformat": 4,
 "nbformat_minor": 5
}
