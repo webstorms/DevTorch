{
 "cells": [
  {
   "cell_type": "markdown",
   "id": "e6da7354-0f0c-4fb8-a0cc-7dccb715dbe0",
   "metadata": {},
   "source": [
    "### Goal\n",
    "This code example shows you how to initialize model weights - and how Devtorch keeps track of the different weight initializations used."
   ]
  },
  {
   "cell_type": "code",
   "execution_count": 1,
   "id": "8e4f0ab3-b30f-4892-854b-34647b843f4d",
   "metadata": {},
   "outputs": [],
   "source": [
    "import torch\n",
    "import torch.nn as nn\n",
    "\n",
    "from devtorch import train, DevModel\n",
    "%load_ext autoreload\n",
    "%autoreload 2"
   ]
  },
  {
   "cell_type": "code",
   "execution_count": 2,
   "id": "322ea895-8545-4ff7-a0a3-40afd8678458",
   "metadata": {},
   "outputs": [],
   "source": [
    "class Model(DevModel):\n",
    "\n",
    "    # See docstring for all available weight init types\n",
    "    \n",
    "    def __init__(self):\n",
    "        super().__init__()\n",
    "        # Initialize weights to a constant value\n",
    "        self.weights1 = nn.Parameter(torch.rand(100, 100))\n",
    "        self.init_weight(self.weights1, \"constant\", val=1)  # < Set val\n",
    "\n",
    "        # Initialize weights from a normal distribution\n",
    "        self.weights2 = nn.Parameter(torch.rand(100, 100))\n",
    "        self.init_weight(self.weights2, \"normal\", mean=0, std=1)  # < Set mean and std\n",
    "        \n",
    "        self.weights3 = nn.Parameter(torch.rand(100, 100))\n",
    "        self.init_weight(self.weights3, \"glorot_uniform\")  # < No need to set anything\n",
    "    \n",
    "model = Model()"
   ]
  },
  {
   "cell_type": "code",
   "execution_count": 3,
   "id": "26e5c0be-fbe3-4967-8265-ccdedc052171",
   "metadata": {},
   "outputs": [
    {
     "data": {
      "text/plain": [
       "Parameter containing:\n",
       "tensor([[1., 1., 1.,  ..., 1., 1., 1.],\n",
       "        [1., 1., 1.,  ..., 1., 1., 1.],\n",
       "        [1., 1., 1.,  ..., 1., 1., 1.],\n",
       "        ...,\n",
       "        [1., 1., 1.,  ..., 1., 1., 1.],\n",
       "        [1., 1., 1.,  ..., 1., 1., 1.],\n",
       "        [1., 1., 1.,  ..., 1., 1., 1.]], requires_grad=True)"
      ]
     },
     "execution_count": 3,
     "metadata": {},
     "output_type": "execute_result"
    }
   ],
   "source": [
    "# Check all weights1 are equal to 1\n",
    "model.weights1"
   ]
  },
  {
   "cell_type": "code",
   "execution_count": 5,
   "id": "942ca4ba-9896-4eaf-ad86-ad2f47e20d57",
   "metadata": {},
   "outputs": [
    {
     "data": {
      "text/plain": [
       "(tensor(-0.0211, grad_fn=<MeanBackward0>),\n",
       " tensor(0.9915, grad_fn=<StdBackward0>))"
      ]
     },
     "execution_count": 5,
     "metadata": {},
     "output_type": "execute_result"
    }
   ],
   "source": [
    "# Check all weights2 have a mean and std close to 0 and 1\n",
    "model.weights2.mean(), model.weights2.std()"
   ]
  },
  {
   "cell_type": "code",
   "execution_count": 6,
   "id": "982d1a02-eaec-43d3-a86d-02f3ea11ff57",
   "metadata": {},
   "outputs": [
    {
     "data": {
      "text/plain": [
       "{'name': 'Model',\n",
       " 'weights': {'weights1': {'init_type': 'constant',\n",
       "   'dtype': torch.float32,\n",
       "   'params': {'val': 1}},\n",
       "  'weights2': {'init_type': 'normal',\n",
       "   'dtype': torch.float32,\n",
       "   'params': {'mean': 0, 'std': 1}},\n",
       "  'weights3': {'init_type': 'glorot_uniform',\n",
       "   'dtype': torch.float32,\n",
       "   'params': {}}}}"
      ]
     },
     "execution_count": 6,
     "metadata": {},
     "output_type": "execute_result"
    }
   ],
   "source": [
    "# Different weight init types are automatically saved\n",
    "model.hyperparams"
   ]
  }
 ],
 "metadata": {
  "kernelspec": {
   "display_name": "Python [conda env:devtorch] *",
   "language": "python",
   "name": "conda-env-devtorch-py"
  },
  "language_info": {
   "codemirror_mode": {
    "name": "ipython",
    "version": 3
   },
   "file_extension": ".py",
   "mimetype": "text/x-python",
   "name": "python",
   "nbconvert_exporter": "python",
   "pygments_lexer": "ipython3",
   "version": "3.8.19"
  }
 },
 "nbformat": 4,
 "nbformat_minor": 5
}
