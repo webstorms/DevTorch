{
 "cells": [
  {
   "cell_type": "markdown",
   "id": "fe48dc5a-ef97-461a-82d5-69876781be0c",
   "metadata": {},
   "source": [
    "### Goal\n",
    "This code example shows you how to specify which parameters Devtorch should keep track of in your model."
   ]
  },
  {
   "cell_type": "code",
   "execution_count": 2,
   "id": "8e4f0ab3-b30f-4892-854b-34647b843f4d",
   "metadata": {},
   "outputs": [],
   "source": [
    "import torch\n",
    "import torch.nn as nn\n",
    "\n",
    "from devtorch import train, DevModel\n",
    "%load_ext autoreload\n",
    "%autoreload 2"
   ]
  },
  {
   "cell_type": "code",
   "execution_count": 3,
   "id": "322ea895-8545-4ff7-a0a3-40afd8678458",
   "metadata": {},
   "outputs": [],
   "source": [
    "class Model(DevModel):\n",
    "    \n",
    "    def __init__(self, n_in, n_out):\n",
    "        super().__init__()\n",
    "        self._n_in = n_in\n",
    "        self._n_out = n_out\n",
    "        self.weights = nn.Parameter(torch.rand(n_in, n_out))\n",
    "        self.init_weight(self.weights, \"glorot_uniform\")\n",
    "\n",
    "    # We keep track of any additional params by extending the hyperparams property\n",
    "    @property\n",
    "    def hyperparams(self):\n",
    "        return {**super().hyperparams, \"n_in\": self._n_in, \"n_out\": self._n_out}\n",
    "\n",
    "model = Model(n_in=100, n_out=10)"
   ]
  },
  {
   "cell_type": "code",
   "execution_count": 4,
   "id": "982d1a02-eaec-43d3-a86d-02f3ea11ff57",
   "metadata": {},
   "outputs": [
    {
     "data": {
      "text/plain": [
       "{'name': 'Model',\n",
       " 'weights': {'weights': {'init_type': 'glorot_uniform',\n",
       "   'dtype': 'torch.float32',\n",
       "   'params': {}}},\n",
       " 'n_in': 100,\n",
       " 'n_out': 10}"
      ]
     },
     "execution_count": 4,
     "metadata": {},
     "output_type": "execute_result"
    }
   ],
   "source": [
    "# Check that these \n",
    "model.hyperparams"
   ]
  },
  {
   "cell_type": "code",
   "execution_count": 8,
   "id": "b4e64b48-4fe2-47e8-ba87-ad55b5047c56",
   "metadata": {},
   "outputs": [
    {
     "data": {
      "text/plain": [
       "'cpu'"
      ]
     },
     "execution_count": 8,
     "metadata": {},
     "output_type": "execute_result"
    }
   ],
   "source": [
    "# Useful to also see device the model is on\n",
    "model.device"
   ]
  }
 ],
 "metadata": {
  "kernelspec": {
   "display_name": "Python [conda env:devtorch] *",
   "language": "python",
   "name": "conda-env-devtorch-py"
  },
  "language_info": {
   "codemirror_mode": {
    "name": "ipython",
    "version": 3
   },
   "file_extension": ".py",
   "mimetype": "text/x-python",
   "name": "python",
   "nbconvert_exporter": "python",
   "pygments_lexer": "ipython3",
   "version": "3.8.19"
  }
 },
 "nbformat": 4,
 "nbformat_minor": 5
}
